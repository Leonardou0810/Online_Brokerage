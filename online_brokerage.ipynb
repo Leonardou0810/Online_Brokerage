{
 "cells": [
  {
   "cell_type": "markdown",
   "metadata": {},
   "source": [
    "# Online Brokerage - First draft of backend code"
   ]
  },
  {
   "cell_type": "markdown",
   "metadata": {},
   "source": [
    "## Class Creation"
   ]
  },
  {
   "cell_type": "code",
   "execution_count": 69,
   "metadata": {},
   "outputs": [],
   "source": [
    "import os"
   ]
  },
  {
   "cell_type": "code",
   "execution_count": 70,
   "metadata": {},
   "outputs": [],
   "source": [
    "class User():\n",
    "    def __init__(self, name, country, dob, password, balance, exchange):\n",
    "        self.name = name\n",
    "        self.country = country\n",
    "        self.dob = dob\n",
    "        self.__password = password\n",
    "        self._portfolio = {}\n",
    "        self.balance = balance\n",
    "        self.exchange = exchange\n",
    "\n",
    "\n",
    "    @property\n",
    "    def country(self):\n",
    "        return self._country\n",
    "\n",
    "\n",
    "    @country.setter\n",
    "    def country(self, country):\n",
    "        \"\"\"Setter method that validates and sets the user's country\n",
    "        \n",
    "        Reads in a list of countries and checks that the user's country is in this list\n",
    "        If it is not, this implies that the user has provided a country that does not exist, and this will trigger an error\n",
    "        \"\"\"\n",
    "        self._country_list = ReadCountries(\"countries.csv\").countries\n",
    "        if country in self._country_list:\n",
    "            self._country = country\n",
    "\n",
    "        else:\n",
    "            raise ValueError(\"Error, invalid country selected\")\n",
    "        \n",
    "\n",
    "    def buy(self, asset_name, quantity):\n",
    "        \"\"\"Function that allows the user to buy an asset\n",
    "        \n",
    "        First, sends a buy request to the exchange for validation and processing\n",
    "        If the user's buy request is deemed to be valid, the transaction continues\n",
    "        If the user already owns the asset, the quantity held associated with this asset is increased\n",
    "        If the user does not own the asset, the asset is added to the portfolio, along with the quantity purchased\n",
    "        A message is then displayed to tell the user if their transaction was valid or not and some information about the transaction\n",
    "        \"\"\"\n",
    "        valid_request, asset = self.exchange.process_buy(asset_name, quantity, self.balance)\n",
    "        \n",
    "        if valid_request:\n",
    "            if asset in self._portfolio:\n",
    "                self._portfolio[asset] += quantity\n",
    "            else:\n",
    "                self._portfolio[asset] = quantity\n",
    "            \n",
    "            self.balance -= asset.price * quantity\n",
    "            print(f\"Successfully purchased {quantity} shares of {asset.name}\")\n",
    "            print(f\"Current balance: {self.balance}\")\n",
    "\n",
    "        else:\n",
    "            print(f\"Falied to purchase {quantity} shares of {asset_name}\")\n",
    "\n",
    "\n",
    "    def sell(self, asset_name, quantity):\n",
    "        \"\"\"Function that allows the user to sell an asset\n",
    "        \n",
    "        First, checks that the asset exists in the portfolio and that a sufficient quantity of the asset exists\n",
    "        If this is the case, a sell request is sent to the exchange for processing\n",
    "        The quantity of the asset sold is removed from the user's portfolio\n",
    "        The user's cash balance is reduced\n",
    "        Finally, some messages are displayed to the user to give some details about the transaction\n",
    "        \"\"\"\n",
    "        for asset in self._portfolio:\n",
    "            if asset.name == asset_name:\n",
    "                if self._portfolio[asset] >= quantity:\n",
    "                    self.exchange.process_sale(asset_name, quantity)\n",
    "                    self._portfolio[asset] -= quantity\n",
    "                    self.balance += asset.price * quantity\n",
    "                    print(f\"Successfully sold {quantity} shares of {asset.name}\")\n",
    "                    print(f\"Current balance: {self.balance}\")\n",
    "                    break\n",
    "\n",
    "                else:\n",
    "                    print(\"Error: insufficient quantity available\")\n",
    "                    print(f\"Quantity requested: {quantity}\")\n",
    "                    print(f\"Quantity available: {self._portfolio[asset]}\")\n",
    "                    break\n",
    "\n",
    "        else:\n",
    "            print(f\"Error: {asset_name} not found in portfolio\")\n",
    "            print(\"Please ensure that you own the asset you wish to sell and that you have input the correct ticker symbol\")\n",
    "\n",
    "\n",
    "    def show_portfolio(self):\n",
    "        print(f\"{self.name}'s Portfolio\")\n",
    "        print(\"Name\", \"\\t\", \"Quantity Held\", \"\\t\", \"Price\", \"\\t\", \"Classification\")\n",
    "        self._portfolio = dict(sorted(self._portfolio.items(), key = lambda item: item[1], reverse=True))\n",
    "        for asset in self._portfolio:\n",
    "            print(asset.name, \"\\t\", self._portfolio[asset], \"\\t\\t\", asset.price, \"\\t\", asset.classification)\n",
    "                \n",
    "\n",
    "\n",
    "class Asset():\n",
    "    def __init__(self, name, quantity, price, classification):\n",
    "        self.name = name\n",
    "        self.quantity = quantity\n",
    "        self.price = price\n",
    "        self.classification = classification\n",
    "\n",
    "    def __lt__(self, other):\n",
    "        \"\"\"Defines the behaviour of the < operator when dealing with members of the Asset class\"\"\"\n",
    "        return self.name < other.name\n",
    "        \n",
    "\n",
    "\n",
    "class Exchange():\n",
    "    def __init__(self, name, country):\n",
    "        self.name = name\n",
    "        self.country = country\n",
    "        self._assets = ReadAssets(\"assets.csv\").assets\n",
    "\n",
    "    \n",
    "    @property\n",
    "    def country(self):\n",
    "        return self._country\n",
    "\n",
    "\n",
    "    @country.setter\n",
    "    def country(self, country):\n",
    "        \"\"\"Setter method that validates and sets the user's country\n",
    "        \n",
    "        Reads in a list of countries and checks that the user's country is in this list\n",
    "        If it is not, this implies that the user has provided a country that does not exist, and this will trigger an error\n",
    "        \"\"\"\n",
    "        self._country_list = ReadCountries(\"countries.csv\").countries\n",
    "        if country in self._country_list:\n",
    "            self._country = country\n",
    "\n",
    "        else:\n",
    "            raise ValueError(\"Error, invalid country selected\")\n",
    "\n",
    "\n",
    "    def show_assets(self):\n",
    "        \"\"\"Function that displays information about the assets available for purchase on the exchange\"\"\"\n",
    "        print(f\"Assets available on {self.name}\")\n",
    "        print(\"Name\", \"\\t\", \"Quantity\", \"\\t\", \"Price\", \"\\t\", \"Classification\")\n",
    "        self._assets.sort()\n",
    "        for asset in self._assets:\n",
    "            print(asset.name, \"\\t\", asset.quantity, \"\\t\\t\", asset.price, \"\\t\", asset.classification)\n",
    "\n",
    "\n",
    "    def process_buy(self, asset_requested, quantity_requested, user_balance):\n",
    "        \"\"\"Function that processes the user's buy request\n",
    "        \n",
    "        First checks that the requested asset exists\n",
    "        Then checks that a sufficient quantity of the asset exists\n",
    "        Then checks that the user has enough cash to pay for the asset\n",
    "        If all of these criteria are met, the transaction is deemed to be valid\n",
    "        For valid transactions, the quantity of available assets is reduced to allow for these transactions\n",
    "        \"\"\"\n",
    "        for asset in self._assets:\n",
    "            # Check that the asset exists\n",
    "            if asset.name == asset_requested:\n",
    "\n",
    "                # Check that a sufficient quantity of the asset exists\n",
    "                if asset.quantity >= quantity_requested: \n",
    "\n",
    "                    # Check that the user has enough money to purchase the asset\n",
    "                    if user_balance >= quantity_requested * asset.price:\n",
    "                        asset.quantity -= quantity_requested\n",
    "                        return True, asset\n",
    "\n",
    "                    else:\n",
    "                        print(\"Error, invalid funds\")\n",
    "                        print(f\"Required funds: {quantity_requested * asset.price}\")\n",
    "                        print(f\"Available funds: {user_balance}\")\n",
    "                        break\n",
    "\n",
    "                else:\n",
    "                    print(\"Error, insufficient quantity available\")\n",
    "                    print(f\"Quantity requested: {quantity_requested}\")\n",
    "                    print(f\"Quantity available: {asset.quantity}\")\n",
    "                    break\n",
    "\n",
    "        else:\n",
    "            print(\"Error, asset not found. Please check to ensure that the ticker symbol you have provided is correct\")\n",
    "\n",
    "        return False, None\n",
    "\n",
    "\n",
    "    def process_sale(self, asset_ask, quantity_ask):\n",
    "        \"\"\"Function that processes the user's sell request\n",
    "        \n",
    "        Finds the sold asset in the available assets list and adds the quantity being sold to the asset\n",
    "        \"\"\"\n",
    "        for asset in self._assets:\n",
    "            if asset.name == asset_ask:\n",
    "                asset.quantity += quantity_ask\n",
    "\n",
    "\n",
    "\n",
    "class ReadAssets():\n",
    "    def __init__(self, file):\n",
    "        self.assets = {}\n",
    "        self.file = file\n",
    "\n",
    "\n",
    "    @property\n",
    "    def assets(self):\n",
    "        return ([x for x in self._assets])\n",
    "\n",
    "\n",
    "    @assets.setter\n",
    "    def assets(self, assets):\n",
    "        self._assets = assets\n",
    "\n",
    "\n",
    "    @property\n",
    "    def file(self):\n",
    "        return self._file\n",
    "\n",
    "\n",
    "    @file.setter\n",
    "    def file(self, file):\n",
    "        \"\"\"Setter method that ensures that the CSV file supplied is valid and exists\"\"\"\n",
    "        if type(file) == str and os.path.isfile(file) and file.endswith(\".csv\"):\n",
    "            self._file = file\n",
    "            self._read_file()\n",
    "\n",
    "        else:\n",
    "            raise TypeError(\"Error, invalid input for file name\")\n",
    "\n",
    "\n",
    "    def _add_asset(self, asset):\n",
    "        \"\"\"Private method that splits each line in the CSV using comma as the delimiter, creates an Asset object, and puts this asset object in a dictionary\"\"\"\n",
    "        asset = asset.split(\",\")\n",
    "        # asset[0] = name, asset[1] = quantity, asset[2] = price, asset[3] = classification\n",
    "        new_asset = Asset(asset[0], int(asset[1]), int(asset[2]), asset[3])\n",
    "        self._assets[new_asset] = \"Dval\"\n",
    "\n",
    "\n",
    "    def _read_file(self):\n",
    "        \"\"\"Private method for opening the file and iterating through the lines in the file\n",
    "        \n",
    "        The extracted lines represent assets and are provided to the private add_asset method\n",
    "        \"\"\"\n",
    "        with open(self._file, \"r\") as fh:\n",
    "            # Remove the first entry in readlines() to allow for the csv headers\n",
    "            for line in fh.readlines()[1:]:\n",
    "                self._add_asset(line[:-1])\n",
    "\n",
    "\n",
    "    \n",
    "\n",
    "class ReadCountries():\n",
    "    def __init__(self, file):\n",
    "        self.countries = {}\n",
    "        self.file = file\n",
    "\n",
    "\n",
    "    @property\n",
    "    def countries(self):\n",
    "        return ([x for x in self._countries])\n",
    "\n",
    "\n",
    "    @countries.setter\n",
    "    def countries(self, countries):\n",
    "        self._countries = countries\n",
    "        \n",
    "\n",
    "    @property\n",
    "    def file(self):\n",
    "        return self._file\n",
    "\n",
    "\n",
    "    @file.setter\n",
    "    def file(self, file):\n",
    "        \"\"\"Setter method that ensures that the CSV file supplied is valid and exists\"\"\"\n",
    "        if type(file) == str and os.path.isfile(file) and file.endswith(\".csv\"):\n",
    "            self._file = file\n",
    "            self._read_file()\n",
    "\n",
    "        else:\n",
    "            raise TypeError(\"Error, invalid input for file name\")\n",
    "\n",
    "\n",
    "    def _add_country(self, new_country):\n",
    "        \"\"\"Private method for adding countries to the country dictionary\"\"\"\n",
    "        self._countries[new_country] = \"Dval\"\n",
    "\n",
    "\n",
    "    def _read_file(self):\n",
    "        \"\"\"Private method for opening the file and iterating through the lines in the file\n",
    "        \n",
    "        The extracted lines represent countries which are provided to the _add_country method\n",
    "        \"\"\"\n",
    "        with open(self._file, \"r\") as fh:\n",
    "            for line in fh.readlines():\n",
    "                self._add_country(line[:-1])\n",
    "\n"
   ]
  },
  {
   "cell_type": "markdown",
   "metadata": {},
   "source": [
    "# Design"
   ]
  },
  {
   "cell_type": "markdown",
   "metadata": {},
   "source": [
    "An online brokerage acts as an intermediary between users (traders) and their desired assets. Users buy and sell assets, and these transactions are validated by the exchange. Each user will have a name, country that they are registered in for tax purposes, a date of birth which should be over 18, a portfolio of assets, a cash balance, an exchange that they trade on, and a password. It is assumed that there is only one exchange that the user can trade on. Users specify the name of the assets and quantity that they wish to buy/sell. If a buy request is deemed to be valid by the exchange, the asset will be added to their portfolio (in the case where the asset already exists in the portfolio, the quantity held will increase) and their cash balance will be reduced. A similar operation is performed for the sell request. \n",
    "\n",
    "An exchange has a name, a country that it is registered in for tax purposes, and a list of available assets. These assets are read in through the use of a ReadAssets class, and this asset list is updated every time a user makes a valid transaction. When the exchange receives a buy request from the user, it checks that the asset exists, that a sufficient quantity of the asset exists, and that the user has sufficient cash to pay for the asset. If all of these criteria are met, the transaction is deemed to be valid, and the quantity of the asset available is reduced. A similar process occurs when the exchange receives a sell request.  "
   ]
  },
  {
   "cell_type": "markdown",
   "metadata": {},
   "source": [
    "# Testing"
   ]
  },
  {
   "cell_type": "markdown",
   "metadata": {},
   "source": [
    "## Create Exchange and show available assets"
   ]
  },
  {
   "cell_type": "code",
   "execution_count": 71,
   "metadata": {},
   "outputs": [
    {
     "name": "stdout",
     "output_type": "stream",
     "text": [
      "test exchange\n",
      "United States of America (USA)\n",
      "Assets available on test exchange\n",
      "Name \t Quantity \t Price \t Classification\n",
      "AAPL \t 20000 \t\t 300 \t stock\n",
      "AMZN \t 25000 \t\t 500 \t stock\n",
      "FB \t 10000 \t\t 200 \t stock\n",
      "GME \t 30000 \t\t 3000 \t stock\n",
      "PLTR \t 5000 \t\t 50 \t stock\n",
      "SPY \t 50000 \t\t 450 \t etf\n",
      "TSLA \t 50000 \t\t 1000 \t stock\n"
     ]
    }
   ],
   "source": [
    "ex1 = Exchange(\"test exchange\", \"United States of America (USA)\")\n",
    "print(ex1.name)\n",
    "print(ex1.country)\n",
    "ex1.show_assets()"
   ]
  },
  {
   "cell_type": "markdown",
   "metadata": {},
   "source": [
    "## Create User"
   ]
  },
  {
   "cell_type": "code",
   "execution_count": 72,
   "metadata": {},
   "outputs": [],
   "source": [
    "user1 = User(\"Michael Davitt\", \"Ireland, Republic of\", \"25/07/1998\", \"password\", 500000, ex1)"
   ]
  },
  {
   "cell_type": "markdown",
   "metadata": {},
   "source": [
    "## Perform valid transactions"
   ]
  },
  {
   "cell_type": "code",
   "execution_count": 73,
   "metadata": {},
   "outputs": [
    {
     "name": "stdout",
     "output_type": "stream",
     "text": [
      "Successfully purchased 200 shares of SPY\n",
      "Current balance: 410000\n",
      "Successfully sold 100 shares of SPY\n",
      "Current balance: 455000\n",
      "Successfully purchased 20 shares of TSLA\n",
      "Current balance: 435000\n"
     ]
    }
   ],
   "source": [
    "user1.buy(\"SPY\", 200)\n",
    "user1.sell(\"SPY\", 100)\n",
    "user1.buy(\"TSLA\", 20)"
   ]
  },
  {
   "cell_type": "markdown",
   "metadata": {},
   "source": [
    "## Perform invalid transactions"
   ]
  },
  {
   "cell_type": "code",
   "execution_count": 74,
   "metadata": {},
   "outputs": [
    {
     "name": "stdout",
     "output_type": "stream",
     "text": [
      "Error, asset not found. Please check to ensure that the ticker symbol you have provided is correct\n",
      "Falied to purchase 5000 shares of AMD\n",
      "Error, insufficient quantity available\n",
      "Quantity requested: 40000\n",
      "Quantity available: 30000\n",
      "Falied to purchase 40000 shares of GME\n",
      "Error, invalid funds\n",
      "Required funds: 12000000\n",
      "Available funds: 435000\n",
      "Falied to purchase 4000 shares of GME\n",
      "Error: GME not found in portfolio\n",
      "Please ensure that you own the asset you wish to sell and that you have input the correct ticker symbol\n"
     ]
    }
   ],
   "source": [
    "user1.buy(\"AMD\", 5000)\n",
    "user1.buy(\"GME\", 40000)\n",
    "user1.buy(\"GME\", 4000)\n",
    "user1.sell(\"GME\", 4000)"
   ]
  },
  {
   "cell_type": "markdown",
   "metadata": {},
   "source": [
    "## Show Portfolio"
   ]
  },
  {
   "cell_type": "code",
   "execution_count": 75,
   "metadata": {},
   "outputs": [
    {
     "name": "stdout",
     "output_type": "stream",
     "text": [
      "Michael Davitt's Portfolio\n",
      "Name \t Quantity Held \t Price \t Classification\n",
      "SPY \t 100 \t\t 450 \t etf\n",
      "TSLA \t 20 \t\t 1000 \t stock\n"
     ]
    }
   ],
   "source": [
    "user1.show_portfolio()"
   ]
  },
  {
   "cell_type": "markdown",
   "metadata": {},
   "source": [
    "## Show Updated Asset Availability list"
   ]
  },
  {
   "cell_type": "code",
   "execution_count": 76,
   "metadata": {},
   "outputs": [
    {
     "name": "stdout",
     "output_type": "stream",
     "text": [
      "Assets available on test exchange\n",
      "Name \t Quantity \t Price \t Classification\n",
      "AAPL \t 20000 \t\t 300 \t stock\n",
      "AMZN \t 25000 \t\t 500 \t stock\n",
      "FB \t 10000 \t\t 200 \t stock\n",
      "GME \t 30000 \t\t 3000 \t stock\n",
      "PLTR \t 5000 \t\t 50 \t stock\n",
      "SPY \t 49900 \t\t 450 \t etf\n",
      "TSLA \t 49980 \t\t 1000 \t stock\n"
     ]
    }
   ],
   "source": [
    "ex1.show_assets()"
   ]
  },
  {
   "cell_type": "code",
   "execution_count": null,
   "metadata": {},
   "outputs": [],
   "source": []
  }
 ],
 "metadata": {
  "interpreter": {
   "hash": "2be5faf79681da6f2a61fdfdd5405d65d042280f7fba6178067603e3a2925119"
  },
  "kernelspec": {
   "display_name": "Python 3.10.0 64-bit",
   "language": "python",
   "name": "python3"
  },
  "language_info": {
   "codemirror_mode": {
    "name": "ipython",
    "version": 3
   },
   "file_extension": ".py",
   "mimetype": "text/x-python",
   "name": "python",
   "nbconvert_exporter": "python",
   "pygments_lexer": "ipython3",
   "version": "3.10.0"
  },
  "orig_nbformat": 4
 },
 "nbformat": 4,
 "nbformat_minor": 2
}
